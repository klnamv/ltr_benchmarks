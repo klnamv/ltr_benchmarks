{
 "cells": [
  {
   "cell_type": "code",
   "execution_count": 8,
   "id": "89649c01-2b2c-4094-9cd5-1d985ff9b711",
   "metadata": {},
   "outputs": [],
   "source": [
    "import pandas as pd\n",
    "import os\n",
    "from path import Path"
   ]
  },
  {
   "cell_type": "code",
   "execution_count": 10,
   "id": "aa0b25da-2855-4a1a-a38f-8f16ef94411e",
   "metadata": {},
   "outputs": [],
   "source": [
    "base_path = Path('data')\n",
    "for fold in os.listdir(base_path / 'raw'):\n",
    "    folder_list = []\n",
    "    fold_path = base_path / 'raw' / fold\n",
    "    for partition in ['train', 'vali', 'test']:\n",
    "        with open(fold_path / partition + '.txt', 'r') as f:\n",
    "            lines = f.readlines()\n",
    "        lines = map(lambda x: [partition] + x.split(' '), lines)\n",
    "        lines = list(map(lambda x: [el.split(':')[1] if i > 1 else el for i, el in enumerate(x) if i != len(x) - 1], lines))\n",
    "        folder_list += lines\n",
    "    df = pd.DataFrame(folder_list)\n",
    "    df.columns = ['partition', 'relevance', 'qid'] + [i for i in range(len(df.columns) - 3)]\n",
    "    df[list(range(len(df.columns)-3))] = df[list(range(len(df.columns)-3))].apply(pd.to_numeric)\n",
    "    df['relevance'] = df['relevance'].astype(int)\n",
    "    df.to_csv(base_path / fold.lower() + '.csv', index=False)"
   ]
  },
  {
   "cell_type": "code",
   "execution_count": null,
   "id": "40e8f38d-eeef-49fe-b8d4-5a6dc1887090",
   "metadata": {},
   "outputs": [],
   "source": []
  }
 ],
 "metadata": {
  "kernelspec": {
   "display_name": "Python 3 (ipykernel)",
   "language": "python",
   "name": "python3"
  },
  "language_info": {
   "codemirror_mode": {
    "name": "ipython",
    "version": 3
   },
   "file_extension": ".py",
   "mimetype": "text/x-python",
   "name": "python",
   "nbconvert_exporter": "python",
   "pygments_lexer": "ipython3",
   "version": "3.12.4"
  }
 },
 "nbformat": 4,
 "nbformat_minor": 5
}
